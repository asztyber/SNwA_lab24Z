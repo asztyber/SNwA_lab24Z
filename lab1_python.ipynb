{
 "cells": [
  {
   "cell_type": "markdown",
   "id": "77860db5",
   "metadata": {},
   "source": [
    "## Lab 1 - Python wprowadzenie\n",
    "### Sieci Neuronowe w Automatyce\n",
    "\n",
    "* informacje do poleceń bez odwołań do dokumentacji znajdują się w notebooku z wykładu (w1_python_wprowadzenie.ipynb)\n",
    "* komórki mają postać tekstu (markdown) lub kodu\n",
    "* Ctrl + MM (Esc + M jupyter lokalnie) przełącza w tryb tekstowy\n",
    "* Ctrl + MY (Esc + Y jupyter lokalnie) przełącza w tryb kodu\n",
    "* Komórkę wykonujemy wciskając Shift + Enter\n",
    "* Po wykonaniu komórki drukowana jest wartość z ostatniej linii komórki (uwaga: operator \"przypisania\" = nic nie zwraca, więc nic się nie drukuje, jeśli w ostatniej linii mamy przypisanie\n",
    "* Wydruk z dowolnego miejsca w kodzie można zrobić funkcją print()"
   ]
  },
  {
   "cell_type": "markdown",
   "id": "6535a91a",
   "metadata": {},
   "source": [
    "### Część 1 - Podstawy (3 pkt.)"
   ]
  },
  {
   "cell_type": "markdown",
   "id": "92ebf866",
   "metadata": {},
   "source": [
    "1.1 (0.25 pkt.) Zdefiniuj przykładowe zmienne różnych typów (int, float, string, lista, krotka, słownik), wydrukuj ich zawartość oraz typ (za pomocą funkcji type)"
   ]
  },
  {
   "cell_type": "code",
   "execution_count": null,
   "id": "fc13ee21",
   "metadata": {},
   "outputs": [],
   "source": []
  },
  {
   "cell_type": "markdown",
   "id": "4a672a46",
   "metadata": {},
   "source": [
    "1.2 (0.25 pkt.) Zdefiniuj listę pięciu liczb. Wydrukuj jej długość (funkcją len) i sumę (funkcją sum)."
   ]
  },
  {
   "cell_type": "code",
   "execution_count": null,
   "id": "e23268f9",
   "metadata": {},
   "outputs": [],
   "source": []
  },
  {
   "cell_type": "markdown",
   "id": "837e5411",
   "metadata": {},
   "source": [
    "1.3 (0.5 pkt.) Napisz instrukcję warunkową sprawdzającą czy dana liczba jest podzielna przez 2 (operator modulo to %)"
   ]
  },
  {
   "cell_type": "code",
   "execution_count": null,
   "id": "7885fd87",
   "metadata": {},
   "outputs": [],
   "source": []
  },
  {
   "cell_type": "markdown",
   "id": "95bc3a78",
   "metadata": {},
   "source": [
    "1.4 (1 pkt.) Zdefiniuj listę 5 liczb i utwórz słownik, zawierający liczby wystąpień elementów na liście. Np. dla listy [1, 2, 1, 3, 2] chcemy dostać {1: 2, 2: 2, 3: 1}. Wykorzystać pętlę for i funkcję get klasy dict z wartością domyślną 0."
   ]
  },
  {
   "cell_type": "code",
   "execution_count": null,
   "id": "52bcb541",
   "metadata": {},
   "outputs": [],
   "source": []
  },
  {
   "cell_type": "markdown",
   "id": "3523c626",
   "metadata": {},
   "source": [
    "1.5 (1 pkt.) Napisz funkcję sprawdzającą, czy dana liczba $n$ jest pierwsza. Funkcja powinna zwracać wartość logiczną. Należy sprawdzać, czy dana liczb dzieli się przez jakąś liczbę całkowitą z zakresu <2, $\\sqrt{n}$>. Zaimportować bibliotekę math (import math) i wykorzystać math.sqrt"
   ]
  },
  {
   "cell_type": "code",
   "execution_count": null,
   "id": "fa586f7e",
   "metadata": {},
   "outputs": [],
   "source": []
  },
  {
   "cell_type": "markdown",
   "id": "eff1e7c1",
   "metadata": {},
   "source": [
    "### Część 2 - NumPy (3.5 pkt.)\n",
    "\n",
    "Żadne z zadań w tej częsci nie wymaga użycia pętli for."
   ]
  },
  {
   "cell_type": "markdown",
   "id": "1ab53c55",
   "metadata": {},
   "source": [
    "2.1 (0.5 pkt.) Utwórz jednowymiarową macierz NumPy zawierającą liczby od 1 do 10. Użyj np.arange. Zapisz tę macierz pod zmienną a. Wydrukuj.\n",
    "\n",
    "Wybierz i wydrukuj elementy o indeksach od 2 do 5."
   ]
  },
  {
   "cell_type": "code",
   "execution_count": null,
   "id": "86324b00",
   "metadata": {},
   "outputs": [],
   "source": []
  },
  {
   "cell_type": "markdown",
   "id": "f90e7864",
   "metadata": {},
   "source": [
    "2.2 (0.5 pkt.) Utwórz macierz A, przekształcając macierz a do kształtu 3 x 3. Użyj funkcji reshape. Wydrukuj.\n",
    "\n",
    "Wybierz drugą (o indeksie 1) kolumnę macierzy i wydrukuj."
   ]
  },
  {
   "cell_type": "code",
   "execution_count": null,
   "id": "4993693e",
   "metadata": {},
   "outputs": [],
   "source": []
  },
  {
   "cell_type": "markdown",
   "id": "f1f13481",
   "metadata": {},
   "source": [
    "2.3 (0.5 pkt.) Utwórz macierz B o wymiarze 3 x 3 zawierającą same dwójki (np.ones i  mnożenie przez 2)\n",
    "\n",
    "* Policz sumę i iloczyn macierzy A i B element po elemencie.\n",
    "* Policz macierzowy iloczyn macierzy A i B\n",
    "* Policz sinus każdego elementu macierzy A"
   ]
  },
  {
   "cell_type": "code",
   "execution_count": null,
   "id": "3f5889f5",
   "metadata": {},
   "outputs": [],
   "source": []
  },
  {
   "cell_type": "markdown",
   "id": "c03cf97b",
   "metadata": {},
   "source": [
    "2.4 (0.5 pkt.) Utwórz macierze c = np.array([[1], [2], [3]]) i  d = np.array([1, 2, 3]).\n",
    "\n",
    "Jaki jest wyniki A + c i A + d? Dlaczego? Odpowiedź na pytanie dlaczego napisz w komórce typu markdown (Esc + M)."
   ]
  },
  {
   "cell_type": "code",
   "execution_count": null,
   "id": "1b33020c",
   "metadata": {},
   "outputs": [],
   "source": []
  },
  {
   "cell_type": "markdown",
   "id": "d0492443",
   "metadata": {},
   "source": [
    "2.5 (0.5 pkt.) Utwórz macierz wartości logicznych wskazującą, które wartości macierzy A są większe od 4. \n",
    "\n",
    "Użyj tej macierzy do wybrania tych elementów macierzy A, które są większe od 4."
   ]
  },
  {
   "cell_type": "code",
   "execution_count": null,
   "id": "6a4bc507",
   "metadata": {},
   "outputs": [],
   "source": []
  },
  {
   "cell_type": "markdown",
   "id": "5b51a731",
   "metadata": {},
   "source": [
    "2.6 (1 pkt.) Dla wartości x = np.arange(-5, 5, 1) i y = np.arange(-5, 5, 1). Utwórz siatkę zawierającą odległość od punktu (0, 0) dla każdego punktu. Zastosuj broadcasting. Nie stosuj pętli for."
   ]
  },
  {
   "cell_type": "code",
   "execution_count": null,
   "id": "7f7dbe30",
   "metadata": {},
   "outputs": [],
   "source": []
  },
  {
   "cell_type": "markdown",
   "id": "f4a7ca30",
   "metadata": {},
   "source": [
    "### Część 3 - Pandas (3.5 pkt.)\n",
    "\n",
    "Biblioteka pandas jest narzędziem do przetwarzania danych tabelarycznych. Będziemy z niej korzystać w dalszych ćwiczeniach."
   ]
  },
  {
   "cell_type": "markdown",
   "id": "097537fc",
   "metadata": {},
   "source": [
    "3.1 (0.5 pkt.) Zaimportuj bibliotekę pandas i nadaj jej alias pd. \n",
    "\n",
    "Utwórz obiekt klasy DataFrame o nazwie df zawierający dane (wykorzystaj przykład (np. pierwszy) z dokumentacji https://pandas.pydata.org/docs/reference/api/pandas.DataFrame.html):\n",
    "\n",
    "Dane z kolumny \"Czas\" podaj jako napisy, a dane z kolumn z temperaturą i ciśnieniem jako liczby. \n",
    "\n",
    "\n",
    "| Czas               | Temperatura (°C) | Ciśnienie (Pa) |\n",
    "|--------------------|------------------|----------------|\n",
    "| 2024-10-14 08:00:00| 22.5             | 101325         |\n",
    "| 2024-10-14 09:00:00| 23.0             | 101400         |\n",
    "| 2024-10-14 10:00:00| 22.8             | 101350         |\n",
    "| 2024-10-14 11:00:00| 23.2             | 101420         |\n",
    "\n",
    "Wyświetl zawartość utworzonej zmiennej."
   ]
  },
  {
   "cell_type": "code",
   "execution_count": null,
   "id": "27d3880b",
   "metadata": {},
   "outputs": [],
   "source": []
  },
  {
   "cell_type": "markdown",
   "id": "4508bab6",
   "metadata": {},
   "source": [
    "3.2 (0.5 pkt.) Wybierz zawartość kolumny czas i wyświetl jej zawartość.\n",
    "Kolumny wybieramy jako df[\\<nazwa kolumny\\>].\n",
    "\n",
    "Zamień zawartość kolumny \"Czas\" na typ datetime (pd.to_datetime(\\<wybrana kolumna\\>)) i podstaw pod kolumnę \"Czas\""
   ]
  },
  {
   "cell_type": "code",
   "execution_count": null,
   "id": "7485a51f",
   "metadata": {},
   "outputs": [],
   "source": []
  },
  {
   "cell_type": "markdown",
   "id": "076126c8",
   "metadata": {},
   "source": [
    "3.3 (1 pkt.) Utwórz kolumnę \"Temperatura (°C) (k-1)\" zawierającą temperaturę z poprzedniej godziny. Uzyj funkcji shift (https://pandas.pydata.org/docs/reference/api/pandas.DataFrame.shift.html)."
   ]
  },
  {
   "cell_type": "code",
   "execution_count": null,
   "id": "194dcdb6",
   "metadata": {},
   "outputs": [],
   "source": []
  },
  {
   "cell_type": "markdown",
   "id": "d93a0118",
   "metadata": {},
   "source": [
    "3.4 (1.5 pkt.) Utwórz jeden wykres zawierający wartości z kolumn \"Temperatura (°C)\" i \"Temperatura (°C) (k-1)\" jako wykresy liniowe. Użyj biblioteki matplotlib. Dodaj opis osi i legendę."
   ]
  },
  {
   "cell_type": "code",
   "execution_count": null,
   "id": "925e5130",
   "metadata": {},
   "outputs": [],
   "source": []
  }
 ],
 "metadata": {
  "kernelspec": {
   "display_name": "Python 3 (ipykernel)",
   "language": "python",
   "name": "python3"
  },
  "language_info": {
   "codemirror_mode": {
    "name": "ipython",
    "version": 3
   },
   "file_extension": ".py",
   "mimetype": "text/x-python",
   "name": "python",
   "nbconvert_exporter": "python",
   "pygments_lexer": "ipython3",
   "version": "3.11.10"
  }
 },
 "nbformat": 4,
 "nbformat_minor": 5
}
